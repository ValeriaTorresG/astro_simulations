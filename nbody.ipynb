{
 "cells": [
  {
   "cell_type": "code",
   "execution_count": null,
   "metadata": {},
   "outputs": [],
   "source": [
    "import numpy as np\n",
    "import sympy as sym\n",
    "import time\n",
    "import threading\n",
    "from copy import deepcopy\n",
    "\n",
    "import matplotlib\n",
    "import matplotlib.pyplot as plt\n",
    "from matplotlib import animation as ani\n",
    "from matplotlib import cm, colors, rc\n",
    "import matplotlib.ticker as ticker"
   ]
  },
  {
   "cell_type": "code",
   "execution_count": null,
   "metadata": {},
   "outputs": [],
   "source": [
    "rc(\"animation\", html = \"jshtml\")\n",
    "plt.rcParams['figure.dpi'] = 360\n",
    "sym.init_printing()\n",
    "matplotlib.rcParams['animation.embed_limit'] = 2**128\n",
    "G = 1"
   ]
  },
  {
   "cell_type": "markdown",
   "metadata": {},
   "source": [
    "### Simple n-body simulation"
   ]
  },
  {
   "cell_type": "markdown",
   "metadata": {},
   "source": [
    "$$F_i = G\\frac{m_i m_j}{|r|^2} \\hat{r}$$\n",
    "$$\\hat{r} = \\frac{r}{|r|}$$\n",
    "$$F_i = G\\frac{m_i m_j}{|r|^2} \\frac{r}{|r|} = G\\frac{m_i m_j}{|r|^3} r$$\n",
    "$$G=1$$\n",
    "$$F_i = \\sum_{j=0, j \\neq i}^{N-1} \\frac{m_i m_j}{|r|^3} r $$\n",
    "$$a =  \\frac{1}{m_i}  \\sum_{j=0, j \\neq i}^{N-1} \\frac{m_i m_j}{|r|^3} r $$\n",
    "$$a = \\sum_{j=0, j \\neq i}^{N-1} \\frac{m_j}{|r|^3} r $$"
   ]
  },
  {
   "cell_type": "markdown",
   "metadata": {},
   "source": [
    "Numerical approximation, there's no analytical solution:\n",
    "\n",
    "$$a(t) = \\frac{dv}{dt} \\approx \\frac{v(t + \\Delta t) - v(t)}{\\Delta t}$$\n",
    "$$a_n \\approx \\frac{v_{n+1}-v_n}{\\Delta t}$$"
   ]
  },
  {
   "cell_type": "markdown",
   "metadata": {},
   "source": [
    "Euler method*\n",
    "$$v_{n+1} \\approx v_n + \\Delta t \\cdot a_n$$\n",
    "$$p_{n+1} \\approx p_n + \\Delta t \\cdot v_n$$"
   ]
  },
  {
   "cell_type": "markdown",
   "metadata": {},
   "source": [
    "$$O(n^2) \\rightarrow O(nlog(n))$$"
   ]
  },
  {
   "cell_type": "code",
   "execution_count": null,
   "metadata": {},
   "outputs": [],
   "source": [
    "class Body:\n",
    "    def __init__(self, pos, vel, mass):\n",
    "        self.pos = pos\n",
    "        self.vel = vel\n",
    "        self.acc = np.array([0.0, 0.0])\n",
    "        self.mass = mass\n",
    "\n",
    "    def update(self, dt):\n",
    "        self.pos += self.vel * dt\n",
    "        self.vel += self.acc * dt\n",
    "        self.acc = np.array([0.0, 0.0])"
   ]
  },
  {
   "cell_type": "code",
   "execution_count": null,
   "metadata": {},
   "outputs": [],
   "source": [
    "def rand_disc():\n",
    "    theta = random.uniform(0, 2 * np.pi)\n",
    "    return np.array([np.cos(theta), np.sin(theta)]) * random.random()\n",
    "\n",
    "def rand_body():\n",
    "    pos = rand_disc()\n",
    "    vel = rand_disc()\n",
    "    return Body(pos, vel, 1.0)\n"
   ]
  },
  {
   "cell_type": "code",
   "execution_count": null,
   "metadata": {},
   "outputs": [],
   "source": [
    "class Simulation:\n",
    "    def __init__(self, seed):\n",
    "        random.seed(seed)\n",
    "        self.bodies = [rand_body() for _ in range(3)]\n",
    "\n",
    "        vel = sum((b.vel * b.mass for b in self.bodies), np.array([0.0, 0.0])) / 3\n",
    "        pos = sum((b.pos * b.mass for b in self.bodies), np.array([0.0, 0.0])) / 3\n",
    "\n",
    "        for b in self.bodies:\n",
    "            b.vel -= vel\n",
    "            b.pos -= pos\n",
    "\n",
    "        r = max(np.linalg.norm(b.pos) for b in self.bodies)\n",
    "        for b in self.bodies:\n",
    "            b.pos /= r\n",
    "\n",
    "    def update(self):\n",
    "        for i, b1 in enumerate(self.bodies):\n",
    "            for b2 in self.bodies[i+1:]:\n",
    "                r = b2.pos - b1.pos\n",
    "                mag_sq = np.dot(r, r)\n",
    "                mag = np.sqrt(mag_sq)\n",
    "                min_dist = max(mag_sq, 0.0001)\n",
    "                force_dir = r / (min_dist * mag)\n",
    "\n",
    "                b1.acc += b2.mass * force_dir\n",
    "                b2.acc -= b1.mass * force_dir\n",
    "\n",
    "        for b in self.bodies:\n",
    "            b.update(0.0001)"
   ]
  },
  {
   "cell_type": "code",
   "execution_count": null,
   "metadata": {},
   "outputs": [],
   "source": [
    "class Body:\n",
    "    def __init__(self, pos, vel, mass):\n",
    "        self.pos = np.array(pos, dtype=np.float64)\n",
    "        self.vel = np.array(vel, dtype=np.float64)\n",
    "        self.mass = mass\n",
    "        self.trail = [self.pos.copy()]\n",
    "\n",
    "    def update(self, bodies, dt):\n",
    "        acc = np.array([0.0, 0.0], dtype=np.float64)\n",
    "        for b in bodies:\n",
    "            if b is not self:\n",
    "                delta = b.pos - self.pos\n",
    "                r2 = np.dot(delta, delta)\n",
    "                acc += G * b.mass * delta / r2**1.5\n",
    "        self.vel += acc * dt\n",
    "        self.pos += self.vel * dt\n",
    "        self.trail.append(self.pos.copy())\n",
    "\n",
    "def init_plot():\n",
    "    ax.axis('off')\n",
    "    ax.set_facecolor('black')\n",
    "    for trail_line in trail_lines:\n",
    "        trail_line.set_data([], [])\n",
    "    return lines + trail_lines\n",
    "\n",
    "def update(frame):\n",
    "    min_x, max_x = float('inf'), float('-inf')\n",
    "    min_y, max_y = float('inf'), float('-inf')\n",
    "\n",
    "    for i, b in enumerate(bodies):\n",
    "        b.update(bodies, 0.01)\n",
    "        lines[i].set_data(b.pos[0], b.pos[1])\n",
    "\n",
    "        x_trail, y_trail = zip(*b.trail)\n",
    "        trail_lines[i].set_data(x_trail, y_trail)\n",
    "\n",
    "        min_x = min(min_x, min(x_trail), b.pos[0])\n",
    "        max_x = max(max_x, max(x_trail), b.pos[0])\n",
    "        min_y = min(min_y, min(y_trail), b.pos[1])\n",
    "        max_y = max(max_y, max(y_trail), b.pos[1])\n",
    "\n",
    "    margin = 0.1 * max(max_x - min_x, max_y - min_y)\n",
    "    ax.set_xlim(min_x - margin, max_x + margin)\n",
    "    ax.set_ylim(min_y - margin, max_y + margin)\n",
    "\n",
    "    return lines + trail_lines\n",
    "\n",
    "bodies = [Body(np.random.rand(2)*2-1, np.random.rand(2)*0.1-0.05, 1) for _ in range(20)]\n",
    "\n",
    "fig, ax = plt.subplots(facecolor='black')\n",
    "lines = [ax.plot([], [], 'o', markersize=5, markerfacecolor='white', markeredgecolor='blue', alpha=0.9)[0] for _ in bodies]\n",
    "trail_lines = [ax.plot([], [], linestyle='--', linewidth=0.5, color='white')[0] for _ in bodies]\n",
    "\n",
    "FuncAnimation(fig, update, frames=np.arange(1000), init_func=init_plot, blit=True)"
   ]
  },
  {
   "cell_type": "markdown",
   "metadata": {},
   "source": [
    "### Runge-Kutta 4\n",
    "\n",
    "\\begin{equation}\n",
    "\\ddot x_1 = \\frac{-k x_1 + m_2 \\dot \\theta^2 l \\sin \\theta}{ m_1+m_2}- \\frac{m_2 (k x_1 - m_2 \\dot \\theta^2 l \\sin \\theta -g(m_1 + m_2) \\tan \\theta )}{ (m_1+m_2) (m_1\\tan^2 \\theta + m_2) }\n",
    "\\end{equation}\n",
    "\n",
    "\\begin{equation}\n",
    "\\ddot \\theta = \\frac{k x_1 - m_2 \\dot \\theta^2 l \\sin \\theta - g(m_1+m_2) \\tan \\theta}{ l(m_1+m_2)\\sin \\theta \\tan \\theta + m_1 l \\cos \\theta }\n",
    "\\end{equation}\n",
    "\n",
    "\\\\\n",
    "$$l_0 = 1 \\text{ m}, \\quad l = 1 \\text{ m}, \\quad m_1 = 8 \\text{ kg}, \\quad m_2 = 10 \\text{ kg}$$\n",
    "$$\\quad k = 300 \\text{ N/m}, \\quad \\theta_0= 70^\\circ, \\quad \\omega_0 = 0 \\quad T_\\text{total} = 5 \\text{ s}, \\quad x_{10} = 1 \\text{ m }$$\n",
    "$$dt = 0.005 \\text{ s }, v_0 = 0$$"
   ]
  },
  {
   "cell_type": "code",
   "execution_count": null,
   "metadata": {},
   "outputs": [],
   "source": [
    "g, l, m1, m2, k, l0 = 9.8, 1, 8, 10, 300, 1\n",
    "t = 5\n",
    "puntos = int(t*50)\n",
    "theta = 70 * np.pi/180\n",
    "x = 1\n",
    "x2, y2 = x + l * np.sin(theta), - l * np.cos(theta)\n",
    "v, omega = 0.0, 0.0"
   ]
  },
  {
   "cell_type": "code",
   "execution_count": null,
   "metadata": {},
   "outputs": [],
   "source": [
    "start_time = time.time()\n",
    "\n",
    "def runge_kutta_4th_order(h, t0, tf, y0):\n",
    "\n",
    "    num_steps = int((tf - t0) / h)\n",
    "    t_values = np.linspace(t0, tf, num_steps + 1)\n",
    "    y_values = np.zeros((num_steps + 1, 4))\n",
    "    y_values[0] = y0\n",
    "\n",
    "    def f(t, y):\n",
    "        x1, x1_dot, theta, theta_dot = y\n",
    "\n",
    "        x1_ddot = (-k*x1 + m2*theta_dot**2*l*np.sin(theta))/(m1+m2) - (m2*(k*x1 - m2*theta_dot**2*l*np.sin(theta) - g*(m1+m2)*np.tan(theta)))/((m1+m2)*(m1*np.tan(theta)**2 + m2))\n",
    "        theta_ddot = (k*x1 - m2*theta_dot**2*l*np.sin(theta) - g*(m1+m2)*np.tan(theta))/(l*(m1+m2)*np.sin(theta)*np.tan(theta) + m1*l*np.cos(theta))\n",
    "\n",
    "        return np.array([x1_dot, x1_ddot, theta_dot, theta_ddot])\n",
    "\n",
    "    for i in range(num_steps):\n",
    "        t = t_values[i]\n",
    "        y = y_values[i]\n",
    "\n",
    "        k1 = h * f(t, y)\n",
    "        k2 = h * f(t + h/2, y + k1/2)\n",
    "        k3 = h * f(t + h/2, y + k2/2)\n",
    "        k4 = h * f(t + h, y + k3)\n",
    "\n",
    "        y_values[i+1] = y + (k1 + 2*k2 + 2*k3 + k4)/6\n",
    "\n",
    "    return t_values, y_values\n",
    "\n",
    "y0 = np.array([x, v, theta, omega])\n",
    "\n",
    "t_values, y_values = runge_kutta_4th_order(t/puntos, 0, t, y0)\n",
    "\n",
    "x1_values = y_values[:, 0]\n",
    "theta_values = y_values[:, 2]\n",
    "\n",
    "x_pendulo = x1_values + l * np.sin(theta_values)\n",
    "y_pendulo = -l * np.cos(theta_values)"
   ]
  },
  {
   "cell_type": "code",
   "execution_count": null,
   "metadata": {},
   "outputs": [],
   "source": [
    "fig, ax = plt.subplots(figsize=(7.5, 2.5))\n",
    "ax.set_xlim(-l0-l, l0+l+1)\n",
    "ax.set_ylim(-l, l)\n",
    "\n",
    "line_resorte, = ax.plot([], [], 'r-o', markersize=6, linewidth=3)\n",
    "line_pendulo, = ax.plot([], [], 'r-o', markersize=6, linewidth=3)\n",
    "line_trayectoria, = ax.plot([], [], 'b-')\n",
    "\n",
    "def init():\n",
    "    line_resorte.set_data([], [])\n",
    "    line_pendulo.set_data([], [])\n",
    "    line_trayectoria.set_data([], [])\n",
    "    return line_resorte, line_pendulo, line_trayectoria\n",
    "\n",
    "def update(frame):\n",
    "    x_resorte = [0, x1_values[frame]+1]\n",
    "    y_resorte = [0, 0]\n",
    "    x_pendulo = [x1_values[frame]+1, x1_values[frame]+1 + l * np.sin(theta_values[frame])]\n",
    "    y_pendulo = [0, -l * np.cos(theta_values[frame])]\n",
    "\n",
    "    line_resorte.set_data(x_resorte, y_resorte)\n",
    "    line_trayectoria.set_data(x1_values[:frame+1]+1 + l * np.sin(theta_values[:frame+1]), -l * np.cos(theta_values[:frame+1]))\n",
    "    line_pendulo.set_data(x_pendulo, y_pendulo)\n",
    "    ax.yaxis.set_major_locator(ticker.MultipleLocator(base=0.25))\n",
    "\n",
    "    return line_resorte, line_pendulo, line_trayectoria\n",
    "\n",
    "ani.FuncAnimation(fig, update, frames=len(t_values), init_func=init, blit=True)"
   ]
  },
  {
   "cell_type": "markdown",
   "metadata": {},
   "source": [
    "### 1D Wave function"
   ]
  },
  {
   "cell_type": "code",
   "execution_count": null,
   "metadata": {},
   "outputs": [],
   "source": [
    "dx, L, t_max, c = 0.02, 1.0, 1.5, 1.8\n",
    "l0, lL = 0, 0\n",
    "\n",
    "def pos_ini(x):\n",
    "  sig = 0.1\n",
    "  return 1.0/np.sqrt(sig)*np.exp(-((x-0.3)**2)/sig**2)\n",
    "\n",
    "def vel_ini(x):\n",
    "  return np.zeros(len(x))"
   ]
  },
  {
   "cell_type": "code",
   "execution_count": null,
   "metadata": {},
   "outputs": [],
   "source": [
    "def wave_1d(dx,t_max,L,c,l0,lL):\n",
    "    dt = dx / (1.5*c)\n",
    "    r = (c*dt/dx)**2\n",
    "    a = 2*(1-r)\n",
    "\n",
    "    x = np.linspace(0, L, num = 1+int(np.round((L)/dx)))\n",
    "    lt, lx = 1+int(np.round((t_max)/dt)), len(x)\n",
    "    U = np.zeros([lt,lx])\n",
    "\n",
    "    U[0,:] = pos_ini(x)\n",
    "    v0 = vel_ini(x)\n",
    "    U[:,0], U[:, -1] = l0, lL\n",
    "    for i in range(1,lx-1):\n",
    "        U[1,i] = 0.5*a*U[0,i] + 0.5*r*(U[0,i-1] + U[0,i+1]) + dt*v0[i]\n",
    "\n",
    "    for n in range(1,lt-1):\n",
    "        for i in range(1,lx-1):\n",
    "            U[n+1,i] = a*U[n,i] + r*(U[n,i-1] + U[n,i+1]) - U[n-1,i]\n",
    "\n",
    "    return x, U"
   ]
  },
  {
   "cell_type": "code",
   "execution_count": null,
   "metadata": {},
   "outputs": [],
   "source": [
    "x, U = wave_1d(dx,t_max,L,c,l0,lL)\n",
    "\n",
    "def update(num_frame, U, line):\n",
    "  line.set_ydata(U[num_frame,:])\n",
    "  return line,\n",
    "\n",
    "def create_animation(x, U):\n",
    "  N = U.shape[0]\n",
    "  fig = plt.figure()\n",
    "  ax = plt.gca()\n",
    "  ax.set_xlim([0,L])\n",
    "  ax.set_ylim([np.min(U)-1,np.max(U)+1])\n",
    "\n",
    "  line, = ax.plot(x,U[0],'r')\n",
    "  plt.tight_layout()\n",
    "  ani = animation.FuncAnimation(fig, update, N, fargs=(U,line))\n",
    "  return ani\n",
    "\n",
    "create_animation(x, U)"
   ]
  },
  {
   "cell_type": "markdown",
   "metadata": {},
   "source": [
    "### 2D Wave function\n",
    "\n",
    "Bidimensional wave equation with fixed ends at zero for the initial position $p(x,y)$\n",
    "\n",
    "$$p(x,y) = \\frac{1}{\\sqrt{\\sigma}} e^{\\left( -{\\frac{(x-0.5)^{2} +(y-0.5)^{2}}{\\sigma^{2}}} \\right)}$$\n",
    "\n",
    "With $\\sigma = 0.1$, domain $x \\in [0, 1]$,  $y \\in [0, 1]$ and initial velocity of each node equal to zero for $t=0$\n",
    "\n",
    "|  |                                        |\n",
    "|-----------------------|----------------------------------------|\n",
    "| $$c$$                 |                                $$1.8$$ |\n",
    "| $$dx$$                |                               $$0.05$$ |\n",
    "| $$dy$$                |                               $$0.05$$ |\n",
    "| $$t_{total}$$           |                                  $$0.5$$ |\n",
    "| $$dt$$                | $$\\frac{1}{10c}\\frac{dx^2dy^2}{dx^2+dy^2}$$ |"
   ]
  },
  {
   "cell_type": "code",
   "execution_count": null,
   "metadata": {},
   "outputs": [],
   "source": [
    "sigma, c, L  = 0.1, 1.8, 1\n",
    "dx, dy = 0.05, 0.05\n",
    "lx, ly = 1.0, 1.0\n",
    "t_total = 0.5\n",
    "dt = (1/(10*c)) * (((dx**2)*(dy**2))/((dx**2)+(dy**2)))\n",
    "pts = 50*dt\n",
    "l0, lL, lT, lB = 0, 1, 1, 0"
   ]
  },
  {
   "cell_type": "code",
   "execution_count": null,
   "metadata": {},
   "outputs": [],
   "source": [
    "def pos_ini(x,y):\n",
    "    return (1.0 / np.sqrt(sigma)) * np.exp(-((x - 0.5)**2 + (y - 0.5)**2) / sigma**2)\n",
    "\n",
    "def vel_ini(x,y):\n",
    "    return np.zeros([len(x),len(y)])\n",
    "\n",
    "def solucion_ecuacion_onda_2D(dx, dy, t_max, L, c, l0, lL):\n",
    "\n",
    "    rx, ry = (c*dt/dx)**2, (c*dt/dy)**2\n",
    "    a = 2*(1-rx-ry)\n",
    "\n",
    "    x, y = np.linspace(0, L, num = 1+int(np.round((L)/dx))), np.linspace(0, L, num = 1+int(np.round((L)/dy)))\n",
    "    x, y = np.meshgrid(x, y)\n",
    "\n",
    "    lt = 1+int((t_max)/dt)\n",
    "    lx, ly = len(x), len(y)\n",
    "\n",
    "    U = np.zeros([lt,lx,ly])\n",
    "    U[0] = pos_ini(x, y)\n",
    "    U[:, 0, :] = l0\n",
    "    U[:, -1, :] = lL\n",
    "    U[:, :, 0] = l0\n",
    "    U[:, :, -1] = lL\n",
    "\n",
    "    v0 = vel_ini(x,y)\n",
    "    U[1,:,:] = U[0,:,:] + dt*v0\n",
    "\n",
    "    for n in range(1, lt-1):\n",
    "        for i in range(1, lx-1):\n",
    "            for j in range(1, ly-1):\n",
    "                U[n+1,i,j] = a*U[n,i,j] - U[n-1,i,j] + rx*(U[n,i+1,j]+U[n,i-1,j]) + ry*(U[n,i,j+1]+U[n,i,j-1])\n",
    "\n",
    "    return x, y, U"
   ]
  },
  {
   "cell_type": "code",
   "execution_count": null,
   "metadata": {},
   "outputs": [],
   "source": [
    "start_time = time.time()\n",
    "x, y, U = solucion_ecuacion_onda_2D(dx, dy, t_total, L, c, 0, 0)\n",
    "\n",
    "print(f't: {time.time()-start_time} (s)')\n",
    "print(f'x.shape:{x.shape}, y.shape:{y.shape} Ux.shape:{U.shape}')"
   ]
  },
  {
   "cell_type": "code",
   "execution_count": null,
   "metadata": {},
   "outputs": [],
   "source": [
    "fig = plt.figure()\n",
    "ax = fig.add_subplot(111, projection='3d')\n",
    "\n",
    "def update(frame):\n",
    "    ax.clear()\n",
    "    ax.set_title(f't = {round(frame*dt,2)} s')\n",
    "    ax.set_zlim3d(np.min(U)-1, np.max(U)+1)\n",
    "\n",
    "    ax.set_xlabel('x')\n",
    "    ax.set_ylabel('y')\n",
    "    ax.set_zlabel('z')\n",
    "    ax.plot_surface(x, y, U[frame], cmap='viridis')\n",
    "\n",
    "    return ax\n",
    "\n",
    "animation.FuncAnimation(fig, update, frames=range(0, int(t_total/dt), 50), interval=50)"
   ]
  }
 ],
 "metadata": {
  "kernelspec": {
   "display_name": "base",
   "language": "python",
   "name": "python3"
  },
  "language_info": {
   "codemirror_mode": {
    "name": "ipython",
    "version": 3
   },
   "file_extension": ".py",
   "mimetype": "text/x-python",
   "name": "python",
   "nbconvert_exporter": "python",
   "pygments_lexer": "ipython3",
   "version": "3.11.5"
  }
 },
 "nbformat": 4,
 "nbformat_minor": 2
}
